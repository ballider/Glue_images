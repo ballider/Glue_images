{
 "cells": [
  {
   "cell_type": "code",
   "execution_count": 86,
   "metadata": {},
   "outputs": [],
   "source": [
    "from PIL import Image\n",
    "import warnings"
   ]
  },
  {
   "cell_type": "code",
   "execution_count": 87,
   "metadata": {},
   "outputs": [],
   "source": [
    "def get_obj_file(FileName):\n",
    "    try:\n",
    "        img = Image.open(FileName)\n",
    "    except FileNotFoundError:\n",
    "        print(\"Error! Cannot open file:\", FileName)\n",
    "        return -1\n",
    "    \n",
    "    return img"
   ]
  },
  {
   "cell_type": "code",
   "execution_count": 88,
   "metadata": {},
   "outputs": [],
   "source": [
    "def glue_horizontally(InputFile1, InputFile2, OutputFile):\n",
    "    img1 = get_obj_file(InputFile1)\n",
    "    img2 = get_obj_file(InputFile2)\n",
    "\n",
    "    if(img1 == -1 or img2 == -1): return -1\n",
    "\n",
    "    # get sizes of input image\n",
    "    w1, h1 = img1.size\n",
    "    w2, h2 = img2.size\n",
    "\n",
    "    if(h1 != h2):\n",
    "        warnings.warn(\"Images have different size! One photo will be cropped.\")\n",
    "\n",
    "    # size of new image\n",
    "    width = w1+w2\n",
    "    height = min(h1, h2)\n",
    "\n",
    "    NewImage = Image.new('RGB', (width, height))\n",
    "\n",
    "    x_offset = 0\n",
    "    NewImage.paste(img1, (x_offset, 0))\n",
    "    x_offset += w1\n",
    "    NewImage.paste(img2, (x_offset, 0))\n",
    "\n",
    "    NewImage.save(OutputFile)\n",
    "\n",
    "    img1.close()\n",
    "    img2.close()\n",
    "    NewImage.close()\n",
    "    \n",
    "    # success\n",
    "    return 1"
   ]
  },
  {
   "cell_type": "code",
   "execution_count": 89,
   "metadata": {},
   "outputs": [],
   "source": [
    "def main():\n",
    "    InputFile1 = input(\"Input first  image: \")\n",
    "    InputFile2 = input(\"Input second image: \")\n",
    "    OutputFile = input(\"Input output  file: \")\n",
    "\n",
    "    glue_horizontally(InputFile1, InputFile2, OutputFile)"
   ]
  },
  {
   "cell_type": "code",
   "execution_count": 94,
   "metadata": {},
   "outputs": [],
   "source": [
    "def AutoTest():\n",
    "    k = glue_horizontally(\"AutoTestFile1.jpeg\", \"AutoTestFile2.jpeg\", \"AutoTestOutput.jpeg\")\n",
    "    \n",
    "    if k == -1:\n",
    "        return 0\n",
    "    \n",
    "    out = Image.open(\"AutoTestOutput.jpeg\")\n",
    "    w, h = out.size\n",
    "    out.close()\n",
    "\n",
    "    if w == 900 and h == 900: return 1\n",
    "    else: return 0"
   ]
  },
  {
   "cell_type": "code",
   "execution_count": 96,
   "metadata": {},
   "outputs": [],
   "source": [
    "if(AutoTest() == 0):\n",
    "    print(\"AutoTest failed.\")\n",
    "else:\n",
    "    main()"
   ]
  }
 ],
 "metadata": {
  "interpreter": {
   "hash": "7b4b4feff2f24a0f0a34464dbe537a36fda679851528fb8735cb41fa49dffb2d"
  },
  "kernelspec": {
   "display_name": "Python 3.9.7 ('base')",
   "language": "python",
   "name": "python3"
  },
  "language_info": {
   "codemirror_mode": {
    "name": "ipython",
    "version": 3
   },
   "file_extension": ".py",
   "mimetype": "text/x-python",
   "name": "python",
   "nbconvert_exporter": "python",
   "pygments_lexer": "ipython3",
   "version": "3.9.7"
  },
  "orig_nbformat": 4
 },
 "nbformat": 4,
 "nbformat_minor": 2
}
